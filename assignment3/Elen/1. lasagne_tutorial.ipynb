{
 "cells": [
  {
   "cell_type": "markdown",
   "metadata": {},
   "source": [
    "# lasagne\n",
    "* lasagne is a library for neural network building and training\n",
    "* it's a low-level library with almost seamless integration with theano\n",
    "\n",
    "For a demo we shall solve the same digit recognition problem, but at a different scale\n",
    "* images are now 28x28\n",
    "* 10 different digits\n",
    "* 50k samples"
   ]
  },
  {
   "cell_type": "code",
   "execution_count": 1,
   "metadata": {
    "collapsed": true
   },
   "outputs": [],
   "source": [
    "import numpy as np\n",
    "import theano\n",
    "import theano.tensor as T\n",
    "import matplotlib.pyplot as plt\n",
    "import sys\n",
    "import os\n",
    "import time\n",
    "%matplotlib inline"
   ]
  },
  {
   "cell_type": "code",
   "execution_count": 2,
   "metadata": {
    "collapsed": true
   },
   "outputs": [],
   "source": [
    "def load_dataset():\n",
    "    # We first define a download function, supporting both Python 2 and 3.\n",
    "    if sys.version_info[0] == 2:\n",
    "        from urllib import urlretrieve\n",
    "    else:\n",
    "        from urllib.request import urlretrieve\n",
    "\n",
    "    def download(filename, source='http://yann.lecun.com/exdb/mnist/'):\n",
    "        print(\"Downloading %s\" % filename)\n",
    "        urlretrieve(source + filename, filename)\n",
    "\n",
    "    # We then define functions for loading MNIST images and labels.\n",
    "    # For convenience, they also download the requested files if needed.\n",
    "    import gzip\n",
    "\n",
    "    def load_mnist_images(filename):\n",
    "        if not os.path.exists(filename):\n",
    "            download(filename)\n",
    "        # Read the inputs in Yann LeCun's binary format.\n",
    "        with gzip.open(filename, 'rb') as f:\n",
    "            data = np.frombuffer(f.read(), np.uint8, offset=16)\n",
    "        # The inputs are vectors now, we reshape them to monochrome 2D images,\n",
    "        # following the shape convention: (examples, channels, rows, columns)\n",
    "        data = data.reshape(-1, 1, 28, 28)\n",
    "        # The inputs come as bytes, we convert them to float32 in range [0,1].\n",
    "        # (Actually to range [0, 255/256], for compatibility to the version\n",
    "        # provided at http://deeplearning.net/data/mnist/mnist.pkl.gz.)\n",
    "        return data / np.float32(256)\n",
    "\n",
    "    def load_mnist_labels(filename):\n",
    "        if not os.path.exists(filename):\n",
    "            download(filename)\n",
    "        # Read the labels in Yann LeCun's binary format.\n",
    "        with gzip.open(filename, 'rb') as f:\n",
    "            data = np.frombuffer(f.read(), np.uint8, offset=8)\n",
    "        # The labels are vectors of integers now, that's exactly what we want.\n",
    "        return data\n",
    "\n",
    "    # We can now download and read the training and test set images and labels.\n",
    "    X_train = load_mnist_images('train-images-idx3-ubyte.gz')\n",
    "    y_train = load_mnist_labels('train-labels-idx1-ubyte.gz')\n",
    "    X_test = load_mnist_images('t10k-images-idx3-ubyte.gz')\n",
    "    y_test = load_mnist_labels('t10k-labels-idx1-ubyte.gz')\n",
    "\n",
    "    # We reserve the last 10000 training examples for validation.\n",
    "    X_train, X_val = X_train[:-10000], X_train[-10000:]\n",
    "    y_train, y_val = y_train[:-10000], y_train[-10000:]\n",
    "\n",
    "    # We just return all the arrays in order, as expected in main().\n",
    "    # (It doesn't matter how we do this as long as we can read them again.)\n",
    "    return X_train, y_train, X_val, y_val, X_test, y_test"
   ]
  },
  {
   "cell_type": "code",
   "execution_count": 3,
   "metadata": {
    "collapsed": false
   },
   "outputs": [
    {
     "name": "stdout",
     "output_type": "stream",
     "text": [
      "(50000, 1, 28, 28) (50000,)\n"
     ]
    }
   ],
   "source": [
    "#from mnist import load_dataset\n",
    "X_train,y_train,X_val,y_val,X_test,y_test = load_dataset()\n",
    "\n",
    "print(X_train.shape,y_train.shape)"
   ]
  },
  {
   "cell_type": "code",
   "execution_count": 4,
   "metadata": {
    "collapsed": false
   },
   "outputs": [
    {
     "data": {
      "text/plain": [
       "<matplotlib.image.AxesImage at 0x1154afc50>"
      ]
     },
     "execution_count": 4,
     "metadata": {},
     "output_type": "execute_result"
    },
    {
     "data": {
      "image/png": "[encoded data removed]",
      "text/plain": [
       "<matplotlib.figure.Figure at 0x1154386d8>"
      ]
     },
     "metadata": {},
     "output_type": "display_data"
    }
   ],
   "source": [
    "plt.imshow(X_train[0, 0])"
   ]
  },
  {
   "cell_type": "code",
   "execution_count": 5,
   "metadata": {
    "collapsed": true
   },
   "outputs": [],
   "source": [
    "input_X = T.tensor4(\"X\")\n",
    "\n",
    "#input dimention (None means \"Arbitrary\" and only works at  the first axes [samples])\n",
    "input_shape = [None,1,28,28]\n",
    "\n",
    "target_y = T.vector(\"target Y integer\",dtype='int32')"
   ]
  },
  {
   "cell_type": "markdown",
   "metadata": {},
   "source": [
    "Defining network architecture"
   ]
  },
  {
   "cell_type": "code",
   "execution_count": 8,
   "metadata": {
    "collapsed": false
   },
   "outputs": [],
   "source": [
    "import lasagne\n",
    "from lasagne.layers import *\n",
    "\n",
    "#Input layer (auxilary)\n",
    "l_in = InputLayer(shape = input_shape,input_var=input_X)\n",
    "\n",
    "#fully connected layer, that takes input layer and applies 50 neurons to it.\n",
    "# nonlinearity here is sigmoid as in logistic regression\n",
    "# you can give a name to each layer (optional)\n",
    "#l2 = DenseLayer(l1, num_units=50, nonlinearity=lasagne.nonlinearities.softmax)\n",
    "#l3 = Conv2DLayer(l2, num_filters=32, filter_size=5)\n",
    "#l3 = MaxPool2DLayer(l2,2)\n",
    "#l4 = DropoutLayer(l2, 0.5)\n",
    "#l5 = Conv2DLayer(l4, num_filters=25, filter_size=(5, 5), nonlinearity=lasagne.nonlinearities.rectify)\n",
    "#l6 = DenseLayer(l4, num_units=100,nonlinearity = lasagne.nonlinearities.sigmoid)\n",
    "#l7 = MaxPool2DLayer(l6, pool_size=(3, 3))\n",
    "#l8 = DropoutLayer(l6, p=0.5)\n",
    "\n",
    "#l1 = Conv2DLayer(l_in, num_filters=32, filter_size=(5,5))\n",
    "#l2 = MaxPool2DLayer(l1, 2)\n",
    "#l3 = DropoutLayer(l2, p=0.5)\n",
    "#l4 = DenseLayer(l3, num_units=100)\n",
    "\n",
    "l1 = ReshapeLayer(l_in, (-1,1,28,28))\n",
    "\n",
    "l1 = Conv2DLayer(l_in, num_filters=32, filter_size=5, pad=1)\n",
    "\n",
    "l2 = MaxPool2DLayer(l1, pool_size=2)\n",
    "\n",
    "l3 = Conv2DLayer(l2, num_filters=10, filter_size=3, pad=1)\n",
    "\n",
    "l4 = MaxPool2DLayer(l3, pool_size=(3,3))\n",
    "\n",
    "l5 = DropoutLayer(l4, p=0.5)\n",
    "\n",
    "l6 = DenseLayer(l5,num_units=100,nonlinearity = lasagne.nonlinearities.elu)\n",
    "\n",
    "\n",
    "#fully connected output layer that takes dense_1 as input and has 10 neurons (1 for each digit)\n",
    "#We use softmax nonlinearity to make probabilities add up to 1\n",
    "l_out = DenseLayer(l6, num_units = 10, nonlinearity=lasagne.nonlinearities.softmax)\n"
   ]
  },
  {
   "cell_type": "code",
   "execution_count": 15,
   "metadata": {
    "collapsed": true
   },
   "outputs": [],
   "source": [
    "import lasagne\n",
    "from lasagne.layers import *\n",
    "\n",
    "#Input layer (auxilary)\n",
    "l1 = InputLayer(shape = input_shape,input_var=input_X)\n",
    "\n",
    "l2 = Conv2DLayer(l1, num_filters=25, filter_size=(5, 5), nonlinearity=lasagne.nonlinearities.rectify)\n",
    "\n",
    "l3 = Pool2DLayer(l2, pool_size=(3, 3))\n",
    "\n",
    "l4 = Conv2DLayer(l3, num_filters=60, filter_size=(5, 5), nonlinearity=lasagne.nonlinearities.linear)\n",
    "\n",
    "l5 = MaxPool2DLayer(l4, pool_size=(3, 3))\n",
    "\n",
    "l6 = DenseLayer(l5, num_units=500, nonlinearity=lasagne.nonlinearities.rectify)\n",
    "\n",
    "l7 = DropoutLayer(l6, p=0.5)\n",
    "\n",
    "l_out = DenseLayer(l7,num_units = 10,nonlinearity=lasagne.nonlinearities.softmax)\n"
   ]
  },
  {
   "cell_type": "code",
   "execution_count": 16,
   "metadata": {
    "collapsed": true
   },
   "outputs": [],
   "source": [
    "#network prediction (theano-transformation)\n",
    "y_predicted = lasagne.layers.get_output(l_out)"
   ]
  },
  {
   "cell_type": "code",
   "execution_count": 17,
   "metadata": {
    "collapsed": false
   },
   "outputs": [
    {
     "name": "stdout",
     "output_type": "stream",
     "text": [
      "[W, b, W, b, W, b, W, b]\n"
     ]
    }
   ],
   "source": [
    "#all network weights (shared variables)\n",
    "all_weights = lasagne.layers.get_all_params(l_out)\n",
    "print(all_weights)"
   ]
  },
  {
   "cell_type": "markdown",
   "metadata": {},
   "source": [
    "### Than you could simply\n",
    "* define loss function manually\n",
    "* compute error gradient over all weights\n",
    "* define updates\n",
    "* But that's a whole lot of work and life's short\n",
    "  * not to mention life's too short to wait for SGD to converge\n",
    "\n",
    "Instead, we shall use Lasagne builtins"
   ]
  },
  {
   "cell_type": "code",
   "execution_count": 11,
   "metadata": {
    "collapsed": false
   },
   "outputs": [],
   "source": [
    "#Mean categorical crossentropy as a loss function - similar to logistic loss but for multiclass targets\n",
    "loss = lasagne.objectives.categorical_crossentropy(y_predicted,target_y).mean()\n",
    "\n",
    "#prediction accuracy\n",
    "accuracy = lasagne.objectives.categorical_accuracy(y_predicted,target_y).mean()\n",
    "\n",
    "#This function computes gradient AND composes weight updates just like you did earlier\n",
    "updates_sgd = lasagne.updates.sgd(loss, all_weights,learning_rate=0.1)"
   ]
  },
  {
   "cell_type": "code",
   "execution_count": 12,
   "metadata": {
    "collapsed": false
   },
   "outputs": [],
   "source": [
    "#function that computes loss and updates weights\n",
    "train_fun = theano.function([input_X,target_y],[loss,accuracy],updates=updates_sgd)\n",
    "\n",
    "#function that just computes accuracy\n",
    "accuracy_fun = theano.function([input_X,target_y],accuracy)"
   ]
  },
  {
   "cell_type": "markdown",
   "metadata": {},
   "source": [
    "### That's all, now let's train it!\n",
    "* We got a lot of data, so it's recommended that you use SGD\n",
    "* So let's implement a function that splits the training sample into minibatches"
   ]
  },
  {
   "cell_type": "code",
   "execution_count": 13,
   "metadata": {
    "collapsed": true
   },
   "outputs": [],
   "source": [
    "# An auxilary function that returns mini-batches for neural network training\n",
    "\n",
    "#Parameters\n",
    "# inputs - a tensor of images with shape (many, 1, 28, 28), e.g. X_train\n",
    "# outputs - a vector of answers for corresponding images e.g. Y_train\n",
    "#batch_size - a single number - the intended size of each batches\n",
    "\n",
    "def iterate_minibatches(inputs, targets, batchsize):\n",
    "    assert len(inputs) == len(targets)\n",
    "    indices = np.arange(len(inputs))\n",
    "    np.random.shuffle(indices)\n",
    "    for start_idx in range(0, len(inputs) - batchsize + 1, batchsize):\n",
    "        excerpt = indices[start_idx:start_idx + batchsize]\n",
    "        yield inputs[excerpt], targets[excerpt]"
   ]
  },
  {
   "cell_type": "markdown",
   "metadata": {},
   "source": [
    "# Training loop"
   ]
  },
  {
   "cell_type": "code",
   "execution_count": 18,
   "metadata": {
    "collapsed": false,
    "scrolled": true
   },
   "outputs": [
    {
     "name": "stdout",
     "output_type": "stream",
     "text": [
      "Epoch 1 of 20 took 90.138s\n",
      "  training loss (in-iteration):\t\t0.110674\n",
      "  train accuracy:\t\t96.45 %\n",
      "  validation accuracy:\t\t96.72 %\n",
      "Epoch 2 of 20 took 92.226s\n",
      "  training loss (in-iteration):\t\t0.110026\n",
      "  train accuracy:\t\t96.49 %\n",
      "  validation accuracy:\t\t96.93 %\n",
      "Epoch 3 of 20 took 101.905s\n",
      "  training loss (in-iteration):\t\t0.106288\n",
      "  train accuracy:\t\t96.62 %\n",
      "  validation accuracy:\t\t96.89 %\n",
      "Epoch 4 of 20 took 105.255s\n",
      "  training loss (in-iteration):\t\t0.105298\n",
      "  train accuracy:\t\t96.62 %\n",
      "  validation accuracy:\t\t96.87 %\n",
      "Epoch 5 of 20 took 95.220s\n",
      "  training loss (in-iteration):\t\t0.106399\n",
      "  train accuracy:\t\t96.68 %\n",
      "  validation accuracy:\t\t96.88 %\n",
      "Epoch 6 of 20 took 93.767s\n",
      "  training loss (in-iteration):\t\t0.102424\n",
      "  train accuracy:\t\t96.82 %\n",
      "  validation accuracy:\t\t97.10 %\n",
      "Epoch 7 of 20 took 106.178s\n",
      "  training loss (in-iteration):\t\t0.096984\n",
      "  train accuracy:\t\t96.85 %\n",
      "  validation accuracy:\t\t96.84 %\n",
      "Epoch 8 of 20 took 111.044s\n",
      "  training loss (in-iteration):\t\t0.099722\n",
      "  train accuracy:\t\t96.76 %\n",
      "  validation accuracy:\t\t96.89 %\n",
      "Epoch 9 of 20 took 144.814s\n",
      "  training loss (in-iteration):\t\t0.096729\n",
      "  train accuracy:\t\t96.83 %\n",
      "  validation accuracy:\t\t96.77 %\n",
      "Epoch 10 of 20 took 117.766s\n",
      "  training loss (in-iteration):\t\t0.096477\n",
      "  train accuracy:\t\t96.84 %\n",
      "  validation accuracy:\t\t97.05 %\n",
      "Epoch 11 of 20 took 137.206s\n",
      "  training loss (in-iteration):\t\t0.091632\n",
      "  train accuracy:\t\t97.06 %\n",
      "  validation accuracy:\t\t97.13 %\n",
      "Epoch 12 of 20 took 146.972s\n",
      "  training loss (in-iteration):\t\t0.090688\n",
      "  train accuracy:\t\t97.06 %\n",
      "  validation accuracy:\t\t97.51 %\n",
      "Epoch 13 of 20 took 139.952s\n",
      "  training loss (in-iteration):\t\t0.092789\n",
      "  train accuracy:\t\t97.01 %\n",
      "  validation accuracy:\t\t97.36 %\n",
      "Epoch 14 of 20 took 160.667s\n",
      "  training loss (in-iteration):\t\t0.088854\n",
      "  train accuracy:\t\t97.09 %\n",
      "  validation accuracy:\t\t97.30 %\n",
      "Epoch 15 of 20 took 147.297s\n",
      "  training loss (in-iteration):\t\t0.089461\n",
      "  train accuracy:\t\t97.08 %\n",
      "  validation accuracy:\t\t97.09 %\n",
      "Epoch 16 of 20 took 106.760s\n",
      "  training loss (in-iteration):\t\t0.086798\n",
      "  train accuracy:\t\t97.21 %\n",
      "  validation accuracy:\t\t97.38 %\n",
      "Epoch 17 of 20 took 115.645s\n",
      "  training loss (in-iteration):\t\t0.087143\n",
      "  train accuracy:\t\t97.16 %\n",
      "  validation accuracy:\t\t97.50 %\n",
      "Epoch 18 of 20 took 129.785s\n",
      "  training loss (in-iteration):\t\t0.086175\n",
      "  train accuracy:\t\t97.22 %\n",
      "  validation accuracy:\t\t97.41 %\n",
      "Epoch 19 of 20 took 134.786s\n",
      "  training loss (in-iteration):\t\t0.084679\n",
      "  train accuracy:\t\t97.23 %\n",
      "  validation accuracy:\t\t97.54 %\n",
      "Epoch 20 of 20 took 98.543s\n",
      "  training loss (in-iteration):\t\t0.081084\n",
      "  train accuracy:\t\t97.31 %\n",
      "  validation accuracy:\t\t97.46 %\n"
     ]
    }
   ],
   "source": [
    "import time\n",
    "\n",
    "num_epochs = 20 #amount of passes through the data\n",
    "\n",
    "batch_size = 100 #number of samples processed at each function call\n",
    "\n",
    "for epoch in range(num_epochs):\n",
    "    # In each epoch, we do a full pass over the training data:\n",
    "    train_err = 0\n",
    "    train_acc = 0\n",
    "    train_batches = 0\n",
    "    start_time = time.time()\n",
    "    for batch in iterate_minibatches(X_train, y_train,batch_size):\n",
    "        inputs, targets = batch\n",
    "        train_err_batch, train_acc_batch = train_fun(inputs, targets)\n",
    "        train_err += train_err_batch\n",
    "        train_acc += train_acc_batch\n",
    "        train_batches += 1\n",
    "\n",
    "    # And a full pass over the validation data:\n",
    "    val_acc = 0\n",
    "    val_batches = 0\n",
    "    for batch in iterate_minibatches(X_val, y_val, batch_size):\n",
    "        inputs, targets = batch\n",
    "        val_acc += accuracy_fun(inputs, targets)\n",
    "        val_batches += 1\n",
    "\n",
    "    \n",
    "    # Then we print the results for this epoch:\n",
    "    print(\"Epoch {} of {} took {:.3f}s\".format(\n",
    "        epoch + 1, num_epochs, time.time() - start_time))\n",
    "\n",
    "    print(\"  training loss (in-iteration):\\t\\t{:.6f}\".format(train_err / train_batches))\n",
    "    print(\"  train accuracy:\\t\\t{:.2f} %\".format(\n",
    "        train_acc / train_batches * 100))\n",
    "    print(\"  validation accuracy:\\t\\t{:.2f} %\".format(\n",
    "        val_acc / val_batches * 100))"
   ]
  },
  {
   "cell_type": "code",
   "execution_count": null,
   "metadata": {
    "collapsed": false
   },
   "outputs": [],
   "source": [
    "test_acc = 0\n",
    "test_batches = 0\n",
    "for batch in iterate_minibatches(X_test, y_test, 500):\n",
    "    inputs, targets = batch\n",
    "    acc = accuracy_fun(inputs, targets)\n",
    "    test_acc += acc\n",
    "    test_batches += 1\n",
    "print(\"Final results:\")\n",
    "print(\"  test accuracy:\\t\\t{:.2f} %\".format(\n",
    "    test_acc / test_batches * 100))\n",
    "\n",
    "if test_acc / test_batches * 100 > 99:\n",
    "    print (\"Achievement unlocked: 80lvl Warlock!\")\n",
    "else:\n",
    "    print (\"We need more magic!\")"
   ]
  },
  {
   "cell_type": "markdown",
   "metadata": {
    "collapsed": true
   },
   "source": [
    "# Now improve it!\n",
    "\n",
    "* Moar layers!\n",
    "* Moar units!\n",
    "* Different nonlinearities!"
   ]
  }
 ],
 "metadata": {
  "kernelspec": {
   "display_name": "Python 3",
   "language": "python",
   "name": "python3"
  },
  "language_info": {
   "codemirror_mode": {
    "name": "ipython",
    "version": 3
   },
   "file_extension": ".py",
   "mimetype": "text/x-python",
   "name": "python",
   "nbconvert_exporter": "python",
   "pygments_lexer": "ipython3",
   "version": "3.6.0"
  }
 },
 "nbformat": 4,
 "nbformat_minor": 1
}
