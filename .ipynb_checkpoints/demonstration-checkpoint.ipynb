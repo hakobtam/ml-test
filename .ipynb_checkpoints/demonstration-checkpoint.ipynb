{
 "cells": [
  {
   "cell_type": "code",
   "execution_count": 1,
   "metadata": {
    "collapsed": true
   },
   "outputs": [],
   "source": [
    "import numpy as np\n",
    "import matplotlib.pyplot as plt\n",
    "from random_forest import RandomForest\n",
    "from decision_tree import DecisionTree\n",
    "from logistic_regression import gradient_descent"
   ]
  },
  {
   "cell_type": "code",
   "execution_count": 2,
   "metadata": {
    "collapsed": true
   },
   "outputs": [],
   "source": [
    "def accuracy_score(Y_true, Y_predict):\n",
    "    acc = 0.\n",
    "    for y_t, y_p in zip(Y_true, Y_predict):\n",
    "        #print(y_t, ' ', y_p)\n",
    "        acc += (y_t == y_p)\n",
    "    return acc / len(Y_true)"
   ]
  },
  {
   "cell_type": "code",
   "execution_count": 3,
   "metadata": {},
   "outputs": [
    {
     "name": "stdout",
     "output_type": "stream",
     "text": [
      "('Decision Tree Accuracy = ', 0.79387374796179822, ' (', 0.00020038027642777664, ')')\n",
      "('Random Forest Tree Accuracy = ', 0.79387374796179822, ' (', 0.00020038027642777664, ')')\n",
      "('Logistic Reg. Accuracy = ', 0.87483217059365559, ' (', 0.0024663410398118508, ')')\n"
     ]
    }
   ],
   "source": [
    "def evaluate_performance():\n",
    "    '''\n",
    "    Evaluate the performance of decision trees and logistic regression,\n",
    "    average over 1,000 trials of 10-folds cross validation\n",
    "\n",
    "    Return:\n",
    "      a matrix giving the performance that will contain the following entries:\n",
    "      stats[0,0] = mean accuracy of decision tree\n",
    "      stats[0,1] = std deviation of decision tree accuracy\n",
    "      stats[1,0] = mean accuracy of logistic regression\n",
    "      stats[1,1] = std deviation of logistic regression accuracy\n",
    "\n",
    "    ** Note that your implementation must follow this API**\n",
    "    '''\n",
    "\n",
    "    # Load Data\n",
    "    folds = 5\n",
    "    filename = 'data/SPECTF.dat'\n",
    "    data = np.loadtxt(filename, delimiter=',')\n",
    "    X = data[:, 1:]\n",
    "    y = np.array([data[:, 0]]).T\n",
    "    n, d = X.shape\n",
    "    tree_accuracies = []\n",
    "    log_accuracies = []\n",
    "    forest_accuracies = []\n",
    "    for trial in range(3):\n",
    "        idx = np.arange(n)\n",
    "        np.random.seed(13)\n",
    "        np.random.shuffle(idx)\n",
    "\n",
    "        X = X[idx]\n",
    "        y = y[idx]\n",
    "\n",
    "        tree_acc = []\n",
    "        forest_acc = []\n",
    "        log_acc = []\n",
    "        for it in range(folds):\n",
    "            Xtest = X[it::folds, :]\n",
    "            ytest = y[it::folds, :]\n",
    "    \n",
    "            Xtrain = [X[i] for i in range(len(X)) if i % folds != it]\n",
    "            ytrain = [y[i] for i in range(len(y)) if i % folds != it]\n",
    "\n",
    "            classifier = DecisionTree(3)\n",
    "            classifier.fit(Xtrain, ytrain)\n",
    "\n",
    "            y_pred = classifier.predict(Xtest)\n",
    "            tree_acc.append(accuracy_score(ytest, y_pred))\n",
    "            #print(\"acc of decision tree= \", accuracy_score(ytest, y_pred))\n",
    "\n",
    "            classifier = RandomForest(12,100)\n",
    "            classifier.fit(Xtrain, ytrain)\n",
    "\n",
    "            y_pred = classifier.predict(Xtest)[0]\n",
    "            forest_acc.append(accuracy_score(ytest, y_pred))\n",
    "            #print(\"acc of forest= \", accuracy_score(ytest, y_pred))\n",
    "\n",
    "            dd = np.array(Xtrain)\n",
    "            data_train = np.column_stack((np.ones(dd.shape[0]), dd))\n",
    "            label_train = [-1 if a == 0 else 1 for a in ytrain]\n",
    "            beta_hat = gradient_descent(data_train, label_train, epsilon=1e-3, l=1, step_size=0.1, max_steps=200)\n",
    "        \n",
    "            y_pred = [1 if a >= 0 else -1 for a in data_train.dot(beta_hat)]\n",
    "            log_acc.append(accuracy_score(label_train, y_pred))\n",
    "            #print(\"acc of logistic= \", accuracy_score(label_train, y_pred))\n",
    "\n",
    "        tree_accuracies.append(np.mean(tree_acc))\n",
    "        forest_accuracies.append(np.mean(forest_acc))\n",
    "        log_accuracies.append(np.mean(log_acc))\n",
    "\n",
    "    # compute the training accuracy of the model\n",
    "    meanDecisionTreeAccuracy = np.mean(tree_accuracies)\n",
    "    stddevDecisionTreeAccuracy = np.std(tree_accuracies)\n",
    "\n",
    "    meanLogisticRegressionAccuracy = np.mean(log_accuracies)\n",
    "    stddevLogisticRegressionAccuracy = np.std(log_accuracies)\n",
    "\n",
    "    meanRandomForestAccuracy = np.mean(forest_accuracies)\n",
    "    stddevRandomForestAccuracy = np.std(forest_accuracies)\n",
    "\n",
    "    stats = np.zeros((3, 3))\n",
    "    stats[0, 0] = meanDecisionTreeAccuracy\n",
    "    stats[0, 1] = stddevDecisionTreeAccuracy\n",
    "    stats[1, 0] = meanRandomForestAccuracy\n",
    "    stats[1, 1] = stddevRandomForestAccuracy\n",
    "    stats[2, 0] = meanLogisticRegressionAccuracy\n",
    "    stats[2, 1] = stddevLogisticRegressionAccuracy\n",
    "    return stats\n",
    "\n",
    "\n",
    "# Do not modify from HERE...\n",
    "if __name__ == \"__main__\":\n",
    "    stats = evaluate_performance()\n",
    "    print (\"Decision Tree Accuracy = \", stats[0, 0], \" (\", stats[0, 1], \")\")\n",
    "    print (\"Random Forest Tree Accuracy = \", stats[1, 0], \" (\", stats[1, 1], \")\")\n",
    "    print (\"Logistic Reg. Accuracy = \", stats[2, 0], \" (\", stats[2, 1], \")\")\n",
    "# ...to HERE."
   ]
  },
  {
   "cell_type": "code",
   "execution_count": null,
   "metadata": {
    "collapsed": true
   },
   "outputs": [],
   "source": []
  }
 ],
 "metadata": {
  "kernelspec": {
   "display_name": "Python 3",
   "language": "python",
   "name": "python3"
  },
  "language_info": {
   "codemirror_mode": {
    "name": "ipython",
    "version": 2
   },
   "file_extension": ".py",
   "mimetype": "text/x-python",
   "name": "python",
   "nbconvert_exporter": "python",
   "pygments_lexer": "ipython2",
   "version": "2.7.12"
  }
 },
 "nbformat": 4,
 "nbformat_minor": 2
}
