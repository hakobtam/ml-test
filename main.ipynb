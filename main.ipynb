{
 "cells": [
  {
   "cell_type": "code",
   "execution_count": 1,
   "metadata": {
    "collapsed": true
   },
   "outputs": [],
   "source": [
    "import numpy as np\n",
    "from random_forest import RandomForest\n",
    "from decision_tree import DecisionTree"
   ]
  },
  {
   "cell_type": "code",
   "execution_count": 2,
   "metadata": {
    "collapsed": false
   },
   "outputs": [
    {
     "name": "stdout",
     "output_type": "stream",
     "text": [
      "Dimensions: (267, 45)\n",
      "First three rows: \n",
      " [[  1.  59.  52.  70.  67.  73.  66.  72.  61.  58.  52.  72.  71.  70.\n",
      "   77.  66.  65.  67.  55.  61.  57.  68.  66.  72.  74.  63.  64.  56.\n",
      "   54.  67.  54.  76.  74.  65.  67.  66.  56.  62.  56.  72.  62.  74.\n",
      "   74.  64.  67.]\n",
      " [  1.  72.  62.  69.  67.  78.  82.  74.  65.  69.  63.  70.  70.  72.\n",
      "   74.  70.  71.  72.  75.  66.  65.  73.  78.  74.  79.  74.  69.  69.\n",
      "   70.  71.  69.  72.  70.  62.  65.  65.  71.  63.  60.  69.  73.  67.\n",
      "   71.  56.  58.]\n",
      " [  1.  71.  62.  70.  64.  67.  64.  79.  65.  70.  69.  72.  71.  68.\n",
      "   65.  61.  61.  73.  71.  75.  74.  80.  74.  54.  47.  53.  37.  77.\n",
      "   68.  72.  59.  72.  68.  60.  60.  73.  70.  66.  65.  64.  55.  61.\n",
      "   41.  51.  46.]]\n"
     ]
    }
   ],
   "source": [
    "# Load Data\n",
    "data = np.loadtxt('SPECTF.dat', delimiter=',')\n",
    "print('Dimensions:', np.shape(data))\n",
    "print('First three rows: \\n', data[:3,:])"
   ]
  },
  {
   "cell_type": "code",
   "execution_count": 3,
   "metadata": {
    "collapsed": true
   },
   "outputs": [],
   "source": [
    "def accuracy_score(Y_true, Y_pred):\n",
    "    '''\n",
    "    :param Y_true: true labels of test set\n",
    "    :param Y_pred: predicted labels of test set\n",
    "    :return: Computes the accuracy of a model.\n",
    "    '''\n",
    "    # return accuracy of th\n",
    "    N = len(Y_true)\n",
    "    count = 0\n",
    "    for i in range(N):\n",
    "        if Y_true[i] == Y_pred[i]:\n",
    "            count = count+1\n",
    "    return count/N * 100\n",
    "\n",
    "def sigmoid(s):\n",
    "    return 1/(1+np.exp(-s))\n",
    "\n",
    "def normalized_gradient(X, Y, beta, l):\n",
    "    X = np.array(X)\n",
    "    Y = np.array(Y)\n",
    "    beta = np.array(beta)\n",
    "    return np.sum([-Y[i] * X[i] * (1 - sigmoid(Y[i]*(beta.T.dot(X[i])))) for i in range(Y.shape[0])], axis=0)/Y.shape[0] + l*beta/Y.shape[0]\n",
    "\n",
    "\n",
    "def gradient_descent(X, Y, epsilon=1e-6, l=1, step_size=0.1, max_steps=1000):\n",
    "    beta = np.zeros(X.shape[1])\n",
    "    mean = np.hstack((0, np.mean(X[:,1:], axis=0)))\n",
    "    sigma = np.std(X[:,1:], axis = 0) \n",
    "    std = np.hstack((1, sigma))\n",
    "    lam = np.hstack((0, l/(sigma**2)))\n",
    "    X_scaled = (X-mean)/std\n",
    "    for _ in range(max_steps):\n",
    "        grad = normalized_gradient(X_scaled, Y, beta, lam)\n",
    "        beta = beta-step_size*grad\n",
    "    beta[0] = beta[0]-np.sum((mean*beta)/std)\n",
    "    beta[1:] = beta[1:]/std[1:]\n",
    "    return beta"
   ]
  },
  {
   "cell_type": "code",
   "execution_count": 4,
   "metadata": {
    "collapsed": true
   },
   "outputs": [],
   "source": [
    "def evaluate_performance():\n",
    "    '''\n",
    "    Evaluate the performance of decision trees and logistic regression,\n",
    "    average over 1,000 trials of 10-folds cross validation\n",
    "    Return:\n",
    "      a matrix giving the performance that will contain the following entries:\n",
    "      stats[0,0] = mean accuracy of decision tree\n",
    "      stats[0,1] = std deviation of decision tree accuracy\n",
    "      stats[1,0] = mean accuracy of logistic regression\n",
    "      stats[1,1] = std deviation of logistic regression accuracy\n",
    "    ** Note that your implementation must follow this API**\n",
    "    '''\n",
    "\n",
    "    folds = 10\n",
    "    X = np.array(data[:, 1:])\n",
    "    Y = np.array([data[:, 0]]).T\n",
    "    n = X.shape[0]\n",
    "    \n",
    "    dt_accuracies = []\n",
    "    rf_accuracies = []\n",
    "    log_accuracies = []\n",
    "    \n",
    "    for trial in range(3):\n",
    "        idx = np.arange(n)\n",
    "        np.random.seed(13)\n",
    "        np.random.shuffle(idx)\n",
    "\n",
    "        X = X[idx]\n",
    "        Y = Y[idx]\n",
    "\n",
    "        tree_acc = []\n",
    "        forest_acc = []\n",
    "        log_acc = []\n",
    "        for it in range(folds):\n",
    "            X_test = X[it::folds, :]\n",
    "            Y_test = Y[it::folds, :]\n",
    "    \n",
    "            X_train = [X[i] for i in range(len(X)) if i % folds != it]\n",
    "            Y_train = [Y[i] for i in range(len(Y)) if i % folds != it]\n",
    "\n",
    "            \n",
    "            # Decision Tree Classifier\n",
    "            classifier_dt = DecisionTree(15)\n",
    "            classifier_dt.fit(X_train, Y_train)\n",
    "            Y_pred = classifier_dt.predict(X_test)\n",
    "            tree_acc.append(accuracy_score(Y_test, Y_pred))\n",
    "\n",
    "\n",
    "            # Random Forest Classifier\n",
    "            classifier_rf = RandomForest(40, 15)\n",
    "            classifier_rf.fit(X_train, Y_train)\n",
    "            Y_pred = classifier_rf.predict(X_test)[0]\n",
    "            forest_acc.append(accuracy_score(Y_test, Y_pred))\n",
    "\n",
    "\n",
    "            # Logistic Regression Classifier\n",
    "            X_train = np.array(X_train)\n",
    "            X_train = np.column_stack((np.ones(len(X_train)), X_train))\n",
    "            beta_hat = gradient_descent(X_train, Y_train, epsilon=1e-3, l=1, step_size=0.1, max_steps=200)\n",
    "            Y_pred = [1 if a >= 0 else 0 for a in X_train.dot(beta_hat)]\n",
    "            log_acc.append(accuracy_score(Y_train, Y_pred))\n",
    "\n",
    "\n",
    "        dt_accuracies.append(np.mean(tree_acc))\n",
    "        rf_accuracies.append(np.mean(forest_acc))\n",
    "        log_accuracies.append(np.mean(log_acc))\n",
    "\n",
    "    # compute the training accuracy of the models\n",
    "    meanDecisionTreeAccuracy = np.mean(dt_accuracies)\n",
    "    stddevDecisionTreeAccuracy = np.std(dt_accuracies)\n",
    "    \n",
    "    meanRandomForestAccuracy = np.mean(rf_accuracies)\n",
    "    stddevRandomForestAccuracy = np.std(rf_accuracies)\n",
    "    \n",
    "    meanLogisticRegressionAccuracy = np.mean(log_accuracies)\n",
    "    stddevLogisticRegressionAccuracy = np.std(log_accuracies)\n",
    "\n",
    "\n",
    "    stats = np.zeros((3, 2))\n",
    "    stats[0, 0] = meanDecisionTreeAccuracy\n",
    "    stats[0, 1] = stddevDecisionTreeAccuracy\n",
    "    stats[1, 0] = meanRandomForestAccuracy\n",
    "    stats[1, 1] = stddevRandomForestAccuracy\n",
    "    stats[2, 0] = meanLogisticRegressionAccuracy\n",
    "    stats[2, 1] = stddevLogisticRegressionAccuracy\n",
    "    return stats"
   ]
  },
  {
   "cell_type": "code",
   "execution_count": 6,
   "metadata": {
    "collapsed": false
   },
   "outputs": [
    {
     "name": "stdout",
     "output_type": "stream",
     "text": [
      "Decision Tree Accuracy =  72.8015194682  ( 0.883216411521 )\n",
      "Random Forest Tree Accuracy =  80.7977207977  ( 0.483631695214 )\n",
      "Logistic Reg. Accuracy =  79.4011065007  ( 0.000141164692413 )\n"
     ]
    }
   ],
   "source": [
    "stats = evaluate_performance()\n",
    "print (\"Decision Tree Accuracy = \", stats[0, 0], \" (\", stats[0, 1], \")\")\n",
    "print (\"Random Forest Tree Accuracy = \", stats[1, 0], \" (\", stats[1, 1], \")\")\n",
    "print (\"Logistic Reg. Accuracy = \", stats[2, 0], \" (\", stats[2, 1], \")\")"
   ]
  }
 ],
 "metadata": {
  "kernelspec": {
   "display_name": "Python 3",
   "language": "python",
   "name": "python3"
  },
  "language_info": {
   "codemirror_mode": {
    "name": "ipython",
    "version": 3
   },
   "file_extension": ".py",
   "mimetype": "text/x-python",
   "name": "python",
   "nbconvert_exporter": "python",
   "pygments_lexer": "ipython3",
   "version": "3.6.0"
  }
 },
 "nbformat": 4,
 "nbformat_minor": 2
}
