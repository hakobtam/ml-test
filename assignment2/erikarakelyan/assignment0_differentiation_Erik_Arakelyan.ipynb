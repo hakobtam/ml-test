{
 "cells": [
  {
   "cell_type": "markdown",
   "metadata": {},
   "source": [
    "# Differentiation "
   ]
  },
  {
   "cell_type": "markdown",
   "metadata": {},
   "source": [
    "Since it easy to google every task please please please try to undestand what's going on. The \"just answer\" thing will be not counted, make sure to present derivation of your solution. It is absolutely OK if you found an answer on web then just exercise in $\\LaTeX$ copying it into here."
   ]
  },
  {
   "cell_type": "markdown",
   "metadata": {},
   "source": [
    "Useful links: \n",
    "[1](http://www.machinelearning.ru/wiki/images/2/2a/Matrix-Gauss.pdf)\n",
    "[2](http://www.atmos.washington.edu/~dennis/MatrixCalculus.pdf)\n",
    "[3](http://cal.cs.illinois.edu/~johannes/research/matrix%20calculus.pdf)"
   ]
  },
  {
   "cell_type": "markdown",
   "metadata": {},
   "source": [
    "$ \\textbf {The answers with more complete derivation and proofs will also be provided via documents.}$\n",
    "Actually for full derivations look at this [URL](https://drive.google.com/drive/folders/0B7DS52hhq9R-dENzT19QOUxOQ3M?usp=sharing)"
   ]
  },
  {
   "cell_type": "markdown",
   "metadata": {},
   "source": [
    "## ex. 1"
   ]
  },
  {
   "cell_type": "markdown",
   "metadata": {},
   "source": [
    "$$  \n",
    "y = x^Tx,  \\quad x \\in \\mathbb{R}^N \n",
    "$$"
   ]
  },
  {
   "cell_type": "markdown",
   "metadata": {},
   "source": [
    "$$\n",
    "y = \\mathbf{x^Tx} = \\sum_{i=1}^{n} x_i^2\n",
    "$$\n",
    "\n",
    "$$\n",
    "\\frac{\\partial y}{\\partial x_i} = \\frac{\\sum_{i=1}^{n} x_i^2}{\\partial x_i} = 2x_i \\implies\n",
    "$$\n",
    "\n",
    "$$\n",
    "\\implies \\frac{\\partial \\mathbf{y}}{\\partial \\mathbf{x}} = \\frac{\\sum_{i=1}^{n} x_i^2}{\\partial x} = 2 \\mathbf{x}\n",
    "$$"
   ]
  },
  {
   "cell_type": "markdown",
   "metadata": {},
   "source": [
    "## ex. 2"
   ]
  },
  {
   "cell_type": "markdown",
   "metadata": {},
   "source": [
    "$$ y = tr(AB) \\quad A,B \\in \\mathbb{R}^{N \\times N} $$ "
   ]
  },
  {
   "cell_type": "markdown",
   "metadata": {},
   "source": [
    "Now we can go for a small trick here as we know that $tr(AB) = tr(ABI)$ where I is the identity matrix\n",
    " $I \\in \\mathbb{R}^{N \\times N}$ $\\implies$\n",
    "$$\n",
    "\\implies \\frac{\\partial}{\\partial A_{ij}} y = \\frac{\\partial tr(ABI)}{\\partial a_{ij}}\n",
    "$$\n",
    "\n",
    "Lets go one step further and rewrite as summations\n",
    "\n",
    "$$\n",
    "\\frac{\\partial tr(ABI)}{\\partial a_{ij}} =  \\frac{\\sum_{i=1}^{n} \\sum_{j=1}^n \\sum_{k=1}^{n} A_{ij}B_{jk}I_{kl}}{\\partial A_{ij}} = \\sum_{k=1}^{n} B_{jk}I_{kl} = [BI]_{jl} = B_{jl} \\implies\n",
    "$$\n",
    "\n",
    "$$\n",
    "\\implies \\frac{dy}{dA} = B^{T}I^{T} = B^{T}\n",
    "$$\n",
    "\n",
    "To get the full derivation of this, please refer to the provided notes."
   ]
  },
  {
   "cell_type": "markdown",
   "metadata": {},
   "source": [
    "## ex. 3"
   ]
  },
  {
   "cell_type": "markdown",
   "metadata": {},
   "source": [
    "$$  \n",
    "y = x^TAc , \\quad A\\in \\mathbb{R}^{N \\times N}, x\\in \\mathbb{R}^{N}, c\\in \\mathbb{R}^{N} \n",
    "$$"
   ]
  },
  {
   "cell_type": "markdown",
   "metadata": {},
   "source": [
    "$$ A=\n",
    "    \\begin{bmatrix}\n",
    "        a_{11} & a_{12} & a_{13} & \\dots  & a_{1n} \\\\\n",
    "        a_{21} & a_{22} & a_{23} & \\dots  & a_{2n} \\\\\n",
    "        \\vdots & \\vdots & \\vdots & \\ddots & \\vdots \\\\\n",
    "        a_{n1} & a_{n2} & a_{n3} & \\dots  & a_{nn}\n",
    "    \\end{bmatrix} =\\begin{bmatrix}\n",
    "    a_{1j}\\\\\n",
    "    \\vdots\\\\\n",
    "    a_{ij}\\\\\n",
    "    \\vdots\\\\\n",
    "    a_{Nj}\n",
    "    \\end{bmatrix}\n",
    "$$\n",
    "\n",
    "$$\n",
    "\\frac {dy}{da_{ij}} = \\frac {x^T A c}{da_{ij}} = x_i c_j \\implies\n",
    "$$\n",
    "\n",
    "$$\n",
    "\\implies \\frac{dy}{dA} = x c^T\n",
    "$$ "
   ]
  },
  {
   "cell_type": "markdown",
   "metadata": {},
   "source": [
    "## ex. 4"
   ]
  },
  {
   "cell_type": "markdown",
   "metadata": {},
   "source": [
    "Classic matrix factorization example. Given matrix $X$ you need to find $A$, $S$ to approximate $X$. This can be done by simple gradient descent iteratively alternating $A$ and $S$ updates.\n",
    "$$\n",
    "J = || X - AS ||_2^2  , \\quad A\\in \\mathbb{R}^{N \\times R} , \\quad S\\in \\mathbb{R}^{R \\times M}\n",
    "$$"
   ]
  },
  {
   "cell_type": "markdown",
   "metadata": {},
   "source": [
    "$$\n",
    "J = tr((x-AS)^T(X-AS)) \\stackrel{XI = X}{=} tr((x-AS)^T(X-AS)I)\\implies\n",
    "$$\n",
    "\n",
    "$$\n",
    "\\implies \\frac{dJ}{dS} = \\frac {dJ}{d(X-AS)} \\times \\frac {d(X-AS)}{dS} = 2(X-AS) \\times \\frac {d(X-AS)}{dS}\n",
    "= 2(X-AS) (-A)^T = 2A^T (AS-X)\n",
    "$$\n",
    "\n",
    "\n",
    "Now this is one version of solving the problem. Honestly the derivation is easy, but writing everything down using \n",
    "$\\LaTeX$ is taking long, thus the rest of the derivations will be provided via documents attached.\n",
    "\n",
    "Actually for full derivations look at this [URL](https://drive.google.com/drive/folders/0B7DS52hhq9R-dENzT19QOUxOQ3M?usp=sharing)"
   ]
  },
  {
   "cell_type": "markdown",
   "metadata": {},
   "source": [
    "### First approach\n",
    "Using ex.2 and the fact:\n",
    "$$\n",
    "|| X ||_2^2 = tr(XX^T) \n",
    "$$ \n",
    "it is easy to derive gradients (you can find it in one of the refs). "
   ]
  },
  {
   "cell_type": "markdown",
   "metadata": {
    "collapsed": true
   },
   "source": [
    "### Second approach\n",
    "You can use *slightly different techniques* if they suits you. Take a look at this derivation:\n",
    "![](../imgs/grad.png)\n",
    "\n",
    "(excerpt from [Handbook of blind source separation, Jutten, page 517](https://books.google.ru/books?id=PTbj03bYH6kC&printsec=frontcover&dq=Handbook+of+Blind+Source+Separation&hl=en&sa=X&ved=0ahUKEwi-q_apiJDLAhULvXIKHVXJDWcQ6AEIHDAA#v=onepage&q=Handbook%20of%20Blind%20Source%20Separation&f=false), open for better picture)."
   ]
  },
  {
   "cell_type": "markdown",
   "metadata": {},
   "source": [
    "### Third approach\n",
    "And finally we can use chain rule! **YOUR TURN** to do it.\n",
    "let $ F = AS $ \n",
    "\n",
    "**Find**"
   ]
  },
  {
   "cell_type": "markdown",
   "metadata": {},
   "source": [
    "$$\n",
    "\\frac{dJ}{dF} = ?\n",
    "$$ "
   ]
  },
  {
   "cell_type": "markdown",
   "metadata": {},
   "source": [
    "and \n",
    "$$\n",
    "\\frac{dF}{dS} = ?\n",
    "$$ \n",
    "(the shape should be $ NM \\times RM )$."
   ]
  },
  {
   "cell_type": "markdown",
   "metadata": {
    "collapsed": true
   },
   "source": [
    "Now it is easy do get desired gradients:\n",
    "$$\n",
    "\\frac{dJ}{dS} = ?\n",
    "$$ "
   ]
  }
 ],
 "metadata": {
  "kernelspec": {
   "display_name": "Python 3",
   "language": "python",
   "name": "python3"
  },
  "language_info": {
   "codemirror_mode": {
    "name": "ipython",
    "version": 3
   },
   "file_extension": ".py",
   "mimetype": "text/x-python",
   "name": "python",
   "nbconvert_exporter": "python",
   "pygments_lexer": "ipython3",
   "version": "3.5.1"
  }
 },
 "nbformat": 4,
 "nbformat_minor": 1
}
